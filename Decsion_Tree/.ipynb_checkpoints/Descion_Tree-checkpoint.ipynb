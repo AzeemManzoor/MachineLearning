{
 "cells": [
  {
   "cell_type": "code",
   "execution_count": 1,
   "id": "93b6ae8b",
   "metadata": {},
   "outputs": [],
   "source": [
    "#Naive_Bayes_Classifier on IRIS Dataset \n",
    "import pandas as pd\n",
    "import numpy as np"
   ]
  },
  {
   "cell_type": "code",
   "execution_count": 2,
   "id": "86ad8cfb",
   "metadata": {},
   "outputs": [
    {
     "data": {
      "text/html": [
       "<div>\n",
       "<style scoped>\n",
       "    .dataframe tbody tr th:only-of-type {\n",
       "        vertical-align: middle;\n",
       "    }\n",
       "\n",
       "    .dataframe tbody tr th {\n",
       "        vertical-align: top;\n",
       "    }\n",
       "\n",
       "    .dataframe thead th {\n",
       "        text-align: right;\n",
       "    }\n",
       "</style>\n",
       "<table border=\"1\" class=\"dataframe\">\n",
       "  <thead>\n",
       "    <tr style=\"text-align: right;\">\n",
       "      <th></th>\n",
       "      <th>sepal_length</th>\n",
       "      <th>sepal_width</th>\n",
       "      <th>petal_length</th>\n",
       "      <th>petal_width</th>\n",
       "      <th>species</th>\n",
       "    </tr>\n",
       "  </thead>\n",
       "  <tbody>\n",
       "    <tr>\n",
       "      <th>0</th>\n",
       "      <td>5.1</td>\n",
       "      <td>3.5</td>\n",
       "      <td>1.4</td>\n",
       "      <td>0.2</td>\n",
       "      <td>Iris-setosa</td>\n",
       "    </tr>\n",
       "    <tr>\n",
       "      <th>1</th>\n",
       "      <td>4.9</td>\n",
       "      <td>3.0</td>\n",
       "      <td>1.4</td>\n",
       "      <td>0.2</td>\n",
       "      <td>Iris-setosa</td>\n",
       "    </tr>\n",
       "    <tr>\n",
       "      <th>2</th>\n",
       "      <td>4.7</td>\n",
       "      <td>3.2</td>\n",
       "      <td>1.3</td>\n",
       "      <td>0.2</td>\n",
       "      <td>Iris-setosa</td>\n",
       "    </tr>\n",
       "    <tr>\n",
       "      <th>3</th>\n",
       "      <td>4.6</td>\n",
       "      <td>3.1</td>\n",
       "      <td>1.5</td>\n",
       "      <td>0.2</td>\n",
       "      <td>Iris-setosa</td>\n",
       "    </tr>\n",
       "    <tr>\n",
       "      <th>4</th>\n",
       "      <td>5.0</td>\n",
       "      <td>3.6</td>\n",
       "      <td>1.4</td>\n",
       "      <td>0.2</td>\n",
       "      <td>Iris-setosa</td>\n",
       "    </tr>\n",
       "    <tr>\n",
       "      <th>...</th>\n",
       "      <td>...</td>\n",
       "      <td>...</td>\n",
       "      <td>...</td>\n",
       "      <td>...</td>\n",
       "      <td>...</td>\n",
       "    </tr>\n",
       "    <tr>\n",
       "      <th>145</th>\n",
       "      <td>6.7</td>\n",
       "      <td>3.0</td>\n",
       "      <td>5.2</td>\n",
       "      <td>2.3</td>\n",
       "      <td>Iris-virginica</td>\n",
       "    </tr>\n",
       "    <tr>\n",
       "      <th>146</th>\n",
       "      <td>6.3</td>\n",
       "      <td>2.5</td>\n",
       "      <td>5.0</td>\n",
       "      <td>1.9</td>\n",
       "      <td>Iris-virginica</td>\n",
       "    </tr>\n",
       "    <tr>\n",
       "      <th>147</th>\n",
       "      <td>6.5</td>\n",
       "      <td>3.0</td>\n",
       "      <td>5.2</td>\n",
       "      <td>2.0</td>\n",
       "      <td>Iris-virginica</td>\n",
       "    </tr>\n",
       "    <tr>\n",
       "      <th>148</th>\n",
       "      <td>6.2</td>\n",
       "      <td>3.4</td>\n",
       "      <td>5.4</td>\n",
       "      <td>2.3</td>\n",
       "      <td>Iris-virginica</td>\n",
       "    </tr>\n",
       "    <tr>\n",
       "      <th>149</th>\n",
       "      <td>5.9</td>\n",
       "      <td>3.0</td>\n",
       "      <td>5.1</td>\n",
       "      <td>1.8</td>\n",
       "      <td>Iris-virginica</td>\n",
       "    </tr>\n",
       "  </tbody>\n",
       "</table>\n",
       "<p>150 rows × 5 columns</p>\n",
       "</div>"
      ],
      "text/plain": [
       "     sepal_length  sepal_width  petal_length  petal_width         species\n",
       "0             5.1          3.5           1.4          0.2     Iris-setosa\n",
       "1             4.9          3.0           1.4          0.2     Iris-setosa\n",
       "2             4.7          3.2           1.3          0.2     Iris-setosa\n",
       "3             4.6          3.1           1.5          0.2     Iris-setosa\n",
       "4             5.0          3.6           1.4          0.2     Iris-setosa\n",
       "..            ...          ...           ...          ...             ...\n",
       "145           6.7          3.0           5.2          2.3  Iris-virginica\n",
       "146           6.3          2.5           5.0          1.9  Iris-virginica\n",
       "147           6.5          3.0           5.2          2.0  Iris-virginica\n",
       "148           6.2          3.4           5.4          2.3  Iris-virginica\n",
       "149           5.9          3.0           5.1          1.8  Iris-virginica\n",
       "\n",
       "[150 rows x 5 columns]"
      ]
     },
     "execution_count": 2,
     "metadata": {},
     "output_type": "execute_result"
    }
   ],
   "source": [
    "df = pd.read_csv(\"IRIS.csv\")\n",
    "df"
   ]
  },
  {
   "cell_type": "code",
   "execution_count": 3,
   "id": "8845d420",
   "metadata": {},
   "outputs": [],
   "source": [
    "#Spliting dependent and independent variables Y is Target Attribute which is species.\n",
    "X =df.iloc[0:,:4].values\n",
    "Y = df['species'].values"
   ]
  },
  {
   "cell_type": "code",
   "execution_count": 4,
   "id": "ecc04a62",
   "metadata": {},
   "outputs": [],
   "source": [
    "#Spliting Data for traning(80%) and testing(20%)\n",
    "from sklearn.model_selection import train_test_split\n",
    "X_train, X_test, y_train, y_test = train_test_split(X,Y,test_size=0.20)"
   ]
  },
  {
   "cell_type": "code",
   "execution_count": 34,
   "id": "b1cdba0e",
   "metadata": {},
   "outputs": [
    {
     "name": "stdout",
     "output_type": "stream",
     "text": [
      "Training time: 0.0009987354278564453s\n",
      "Testing time: 0.0009996891021728516s\n"
     ]
    },
    {
     "data": {
      "text/plain": [
       "array([[-2.76556535e-01, -6.10640566e-01,  6.62633500e-01,\n",
       "         1.06045704e+00],\n",
       "       [ 8.79777408e-01, -1.56913830e-01,  3.85959805e-01,\n",
       "         2.87654339e-01],\n",
       "       [ 1.57357777e+00,  2.96812907e-01,  1.27131563e+00,\n",
       "         8.02856139e-01],\n",
       "       [ 6.48510620e-01, -8.37503934e-01,  8.83972456e-01,\n",
       "         9.31656589e-01],\n",
       "       [-1.60923140e-01,  3.01917333e+00, -1.21874763e+00,\n",
       "        -1.00035016e+00],\n",
       "       [ 7.64144014e-01, -6.10640566e-01,  4.96629283e-01,\n",
       "         4.16454789e-01],\n",
       "       [ 1.85977043e-01,  7.50539643e-01,  4.41294544e-01,\n",
       "         5.45255239e-01],\n",
       "       [-1.08599029e+00,  6.99495385e-02, -1.21874763e+00,\n",
       "        -1.38675151e+00],\n",
       "       [-4.52897461e-02, -8.37503934e-01,  7.73302978e-01,\n",
       "         9.31656589e-01],\n",
       "       [-1.60923140e-01, -6.10640566e-01,  4.41294544e-01,\n",
       "         1.58853888e-01],\n",
       "       [ 4.17243831e-01,  7.50539643e-01,  9.39307195e-01,\n",
       "         1.44685839e+00],\n",
       "       [-9.70356901e-01,  2.96812907e-01, -1.38475184e+00,\n",
       "        -1.25795106e+00],\n",
       "       [ 3.01610437e-01, -3.83777198e-01,  5.51964022e-01,\n",
       "         2.87654339e-01],\n",
       "       [-3.92189929e-01, -1.06436730e+00,  3.85959805e-01,\n",
       "         3.00534384e-02],\n",
       "       [ 1.85977043e-01, -1.56913830e-01,  6.07298761e-01,\n",
       "         8.02856139e-01],\n",
       "       [ 1.68921117e+00, -3.83777198e-01,  1.43731985e+00,\n",
       "         8.02856139e-01],\n",
       "       [-1.60923140e-01, -1.06436730e+00, -1.12052847e-01,\n",
       "        -2.27547462e-01],\n",
       "       [-3.92189929e-01, -1.51809404e+00, -1.38336848e-03,\n",
       "        -2.27547462e-01],\n",
       "       [-7.39090112e-01, -8.37503934e-01,  1.09286110e-01,\n",
       "         2.87654339e-01],\n",
       "       [-4.52897461e-02, -1.06436730e+00,  1.64620849e-01,\n",
       "         3.00534384e-02],\n",
       "       [-1.60923140e-01, -3.83777198e-01,  2.75290327e-01,\n",
       "         1.58853888e-01],\n",
       "       [-9.70356901e-01, -1.56913830e-01, -1.16341289e+00,\n",
       "        -1.25795106e+00],\n",
       "       [-1.20162369e+00, -1.56913830e-01, -1.27408237e+00,\n",
       "        -1.12915061e+00],\n",
       "       [-1.60923140e-01, -1.29123067e+00,  7.17968239e-01,\n",
       "         1.06045704e+00],\n",
       "       [ 4.17243831e-01, -3.83777198e-01,  3.30625066e-01,\n",
       "         1.58853888e-01],\n",
       "       [ 5.32877225e-01,  7.50539643e-01,  1.04997667e+00,\n",
       "         1.57565884e+00],\n",
       "       [ 7.64144014e-01, -1.56913830e-01,  1.16064615e+00,\n",
       "         1.31805794e+00],\n",
       "       [ 9.95410803e-01,  6.99495385e-02,  3.85959805e-01,\n",
       "         2.87654339e-01],\n",
       "       [-6.23456718e-01,  1.43112975e+00, -1.21874763e+00,\n",
       "        -1.25795106e+00],\n",
       "       [-1.08599029e+00,  6.99495385e-02, -1.21874763e+00,\n",
       "        -1.38675151e+00]])"
      ]
     },
     "execution_count": 34,
     "metadata": {},
     "output_type": "execute_result"
    }
   ],
   "source": [
    "#Featrure scaling to bring variable in a single scale\n",
    "import time\n",
    "from sklearn.preprocessing import StandardScaler\n",
    "sc = StandardScaler()\n",
    "start=time.time()\n",
    "X_train = sc.fit_transform(X_train)\n",
    "stop= time.time()\n",
    "print(f\"Training time: {stop - start}s\")\n",
    "start=time.time()\n",
    "X_test = sc.transform(X_test)\n",
    "stop= time.time()\n",
    "print(f\"Testing time: {stop - start}s\")\n",
    "X_test"
   ]
  },
  {
   "cell_type": "code",
   "execution_count": 29,
   "id": "413ac680",
   "metadata": {},
   "outputs": [],
   "source": [
    "from sklearn.tree import DecisionTreeClassifier"
   ]
  },
  {
   "cell_type": "code",
   "execution_count": 7,
   "id": "76bb9d65",
   "metadata": {},
   "outputs": [],
   "source": [
    "dtree = DecisionTreeClassifier()"
   ]
  },
  {
   "cell_type": "code",
   "execution_count": 8,
   "id": "6c1aa619",
   "metadata": {},
   "outputs": [
    {
     "data": {
      "text/plain": [
       "DecisionTreeClassifier()"
      ]
     },
     "execution_count": 8,
     "metadata": {},
     "output_type": "execute_result"
    }
   ],
   "source": [
    "dtree.fit(X_train,y_train)"
   ]
  },
  {
   "cell_type": "code",
   "execution_count": 9,
   "id": "b338e190",
   "metadata": {},
   "outputs": [],
   "source": [
    "predictions = dtree.predict(X_test)"
   ]
  },
  {
   "cell_type": "code",
   "execution_count": 10,
   "id": "6a4e9c0d",
   "metadata": {},
   "outputs": [],
   "source": [
    "from sklearn.metrics import classification_report,confusion_matrix"
   ]
  },
  {
   "cell_type": "code",
   "execution_count": 11,
   "id": "7c349bab",
   "metadata": {},
   "outputs": [
    {
     "name": "stdout",
     "output_type": "stream",
     "text": [
      "                 precision    recall  f1-score   support\n",
      "\n",
      "    Iris-setosa       1.00      1.00      1.00         7\n",
      "Iris-versicolor       0.93      1.00      0.96        13\n",
      " Iris-virginica       1.00      0.90      0.95        10\n",
      "\n",
      "       accuracy                           0.97        30\n",
      "      macro avg       0.98      0.97      0.97        30\n",
      "   weighted avg       0.97      0.97      0.97        30\n",
      "\n"
     ]
    }
   ],
   "source": [
    "print(classification_report(y_test,predictions))"
   ]
  },
  {
   "cell_type": "code",
   "execution_count": 12,
   "id": "850b79a1",
   "metadata": {},
   "outputs": [
    {
     "name": "stdout",
     "output_type": "stream",
     "text": [
      "[[ 7  0  0]\n",
      " [ 0 13  0]\n",
      " [ 0  1  9]]\n"
     ]
    }
   ],
   "source": [
    "print(confusion_matrix(y_test,predictions))"
   ]
  },
  {
   "cell_type": "code",
   "execution_count": 13,
   "id": "25460ca7",
   "metadata": {},
   "outputs": [],
   "source": [
    "#Descion_Tree_Classifier on Titanic Dataset "
   ]
  },
  {
   "cell_type": "code",
   "execution_count": 14,
   "id": "ca4ca4f2",
   "metadata": {},
   "outputs": [],
   "source": [
    "#Clean the dataset Manually by converting Catagorical Attributes into 0 and 1, and removed unrequire Attributes e.g Name,Caben etc"
   ]
  },
  {
   "cell_type": "code",
   "execution_count": 15,
   "id": "1f31f86f",
   "metadata": {},
   "outputs": [],
   "source": [
    "import pandas as pd\n",
    "train_dataset = pd.read_csv(\"train_data.csv\",index_col=0)"
   ]
  },
  {
   "cell_type": "code",
   "execution_count": 16,
   "id": "dfb0feed",
   "metadata": {},
   "outputs": [
    {
     "data": {
      "text/html": [
       "<div>\n",
       "<style scoped>\n",
       "    .dataframe tbody tr th:only-of-type {\n",
       "        vertical-align: middle;\n",
       "    }\n",
       "\n",
       "    .dataframe tbody tr th {\n",
       "        vertical-align: top;\n",
       "    }\n",
       "\n",
       "    .dataframe thead th {\n",
       "        text-align: right;\n",
       "    }\n",
       "</style>\n",
       "<table border=\"1\" class=\"dataframe\">\n",
       "  <thead>\n",
       "    <tr style=\"text-align: right;\">\n",
       "      <th></th>\n",
       "      <th>Pclass</th>\n",
       "      <th>Sex</th>\n",
       "      <th>Age</th>\n",
       "      <th>Fare</th>\n",
       "      <th>Embarked</th>\n",
       "      <th>Title</th>\n",
       "      <th>IsAlone</th>\n",
       "    </tr>\n",
       "  </thead>\n",
       "  <tbody>\n",
       "    <tr>\n",
       "      <th>0</th>\n",
       "      <td>3</td>\n",
       "      <td>0</td>\n",
       "      <td>1</td>\n",
       "      <td>0</td>\n",
       "      <td>0</td>\n",
       "      <td>1</td>\n",
       "      <td>0</td>\n",
       "    </tr>\n",
       "    <tr>\n",
       "      <th>1</th>\n",
       "      <td>1</td>\n",
       "      <td>1</td>\n",
       "      <td>2</td>\n",
       "      <td>3</td>\n",
       "      <td>1</td>\n",
       "      <td>3</td>\n",
       "      <td>0</td>\n",
       "    </tr>\n",
       "    <tr>\n",
       "      <th>2</th>\n",
       "      <td>3</td>\n",
       "      <td>1</td>\n",
       "      <td>1</td>\n",
       "      <td>1</td>\n",
       "      <td>0</td>\n",
       "      <td>2</td>\n",
       "      <td>1</td>\n",
       "    </tr>\n",
       "  </tbody>\n",
       "</table>\n",
       "</div>"
      ],
      "text/plain": [
       "   Pclass  Sex  Age  Fare  Embarked  Title  IsAlone\n",
       "0       3    0    1     0         0      1        0\n",
       "1       1    1    2     3         1      3        0\n",
       "2       3    1    1     1         0      2        1"
      ]
     },
     "execution_count": 16,
     "metadata": {},
     "output_type": "execute_result"
    }
   ],
   "source": [
    "train_dataset.head(3)"
   ]
  },
  {
   "cell_type": "code",
   "execution_count": 17,
   "id": "4a2980f3",
   "metadata": {},
   "outputs": [],
   "source": [
    "test_dataset = pd.read_csv(\"test_data.csv\", index_col =0)"
   ]
  },
  {
   "cell_type": "code",
   "execution_count": 18,
   "id": "3e16666b",
   "metadata": {},
   "outputs": [
    {
     "data": {
      "text/html": [
       "<div>\n",
       "<style scoped>\n",
       "    .dataframe tbody tr th:only-of-type {\n",
       "        vertical-align: middle;\n",
       "    }\n",
       "\n",
       "    .dataframe tbody tr th {\n",
       "        vertical-align: top;\n",
       "    }\n",
       "\n",
       "    .dataframe thead th {\n",
       "        text-align: right;\n",
       "    }\n",
       "</style>\n",
       "<table border=\"1\" class=\"dataframe\">\n",
       "  <thead>\n",
       "    <tr style=\"text-align: right;\">\n",
       "      <th></th>\n",
       "      <th>Pclass</th>\n",
       "      <th>Sex</th>\n",
       "      <th>Age</th>\n",
       "      <th>Fare</th>\n",
       "      <th>Embarked</th>\n",
       "      <th>Title</th>\n",
       "      <th>IsAlone</th>\n",
       "    </tr>\n",
       "  </thead>\n",
       "  <tbody>\n",
       "    <tr>\n",
       "      <th>0</th>\n",
       "      <td>3</td>\n",
       "      <td>0</td>\n",
       "      <td>2</td>\n",
       "      <td>0</td>\n",
       "      <td>2</td>\n",
       "      <td>1</td>\n",
       "      <td>1</td>\n",
       "    </tr>\n",
       "    <tr>\n",
       "      <th>1</th>\n",
       "      <td>3</td>\n",
       "      <td>1</td>\n",
       "      <td>2</td>\n",
       "      <td>0</td>\n",
       "      <td>0</td>\n",
       "      <td>3</td>\n",
       "      <td>0</td>\n",
       "    </tr>\n",
       "    <tr>\n",
       "      <th>2</th>\n",
       "      <td>2</td>\n",
       "      <td>0</td>\n",
       "      <td>62</td>\n",
       "      <td>1</td>\n",
       "      <td>2</td>\n",
       "      <td>1</td>\n",
       "      <td>1</td>\n",
       "    </tr>\n",
       "  </tbody>\n",
       "</table>\n",
       "</div>"
      ],
      "text/plain": [
       "   Pclass  Sex  Age  Fare  Embarked  Title  IsAlone\n",
       "0       3    0    2     0         2      1        1\n",
       "1       3    1    2     0         0      3        0\n",
       "2       2    0   62     1         2      1        1"
      ]
     },
     "execution_count": 18,
     "metadata": {},
     "output_type": "execute_result"
    }
   ],
   "source": [
    "test_dataset.head(3)"
   ]
  },
  {
   "cell_type": "code",
   "execution_count": 19,
   "id": "d951e631",
   "metadata": {},
   "outputs": [
    {
     "data": {
      "text/html": [
       "<div>\n",
       "<style scoped>\n",
       "    .dataframe tbody tr th:only-of-type {\n",
       "        vertical-align: middle;\n",
       "    }\n",
       "\n",
       "    .dataframe tbody tr th {\n",
       "        vertical-align: top;\n",
       "    }\n",
       "\n",
       "    .dataframe thead th {\n",
       "        text-align: right;\n",
       "    }\n",
       "</style>\n",
       "<table border=\"1\" class=\"dataframe\">\n",
       "  <thead>\n",
       "    <tr style=\"text-align: right;\">\n",
       "      <th></th>\n",
       "      <th>Survived</th>\n",
       "    </tr>\n",
       "  </thead>\n",
       "  <tbody>\n",
       "    <tr>\n",
       "      <th>0</th>\n",
       "      <td>0</td>\n",
       "    </tr>\n",
       "    <tr>\n",
       "      <th>1</th>\n",
       "      <td>1</td>\n",
       "    </tr>\n",
       "    <tr>\n",
       "      <th>2</th>\n",
       "      <td>0</td>\n",
       "    </tr>\n",
       "  </tbody>\n",
       "</table>\n",
       "</div>"
      ],
      "text/plain": [
       "   Survived\n",
       "0         0\n",
       "1         1\n",
       "2         0"
      ]
     },
     "execution_count": 19,
     "metadata": {},
     "output_type": "execute_result"
    }
   ],
   "source": [
    "test_labels = pd.read_csv(\"test_labels.csv\",index_col=0)\n",
    "train_labels = pd.read_csv(\"train_labels.csv\",index_col=0)\n",
    "train_labels.head(3)\n",
    "test_labels.head(3)"
   ]
  },
  {
   "cell_type": "code",
   "execution_count": 35,
   "id": "14dcf6c9",
   "metadata": {},
   "outputs": [
    {
     "name": "stdout",
     "output_type": "stream",
     "text": [
      "Training time: 0.0019969940185546875s\n",
      "Testing time: 0.0019996166229248047s\n"
     ]
    },
    {
     "data": {
      "text/plain": [
       "array([[ 0.82816049, -0.73833521, -0.22749444, ...,  2.59034684,\n",
       "        -0.70814698,  0.81267937],\n",
       "       [ 0.82816049,  1.35439836, -0.22749444, ..., -0.56774725,\n",
       "         1.23407432, -1.23049758],\n",
       "       [-0.36837009, -0.73833521,  4.01419659, ...,  2.59034684,\n",
       "        -0.70814698,  0.81267937],\n",
       "       ...,\n",
       "       [ 0.82816049, -0.73833521, -0.22749444, ..., -0.56774725,\n",
       "        -0.70814698,  0.81267937],\n",
       "       [ 0.82816049, -0.73833521, -0.22749444, ..., -0.56774725,\n",
       "        -0.70814698,  0.81267937],\n",
       "       [ 0.82816049, -0.73833521, -0.22749444, ...,  1.01129979,\n",
       "         2.20518498, -1.23049758]])"
      ]
     },
     "execution_count": 35,
     "metadata": {},
     "output_type": "execute_result"
    }
   ],
   "source": [
    "#Featrure scaling to bring variable in a single scale\n",
    "from sklearn.preprocessing import StandardScaler\n",
    "sc = StandardScaler()\n",
    "start=time.time()\n",
    "train_dataset = sc.fit_transform(train_dataset)\n",
    "stop=time.time()\n",
    "print(f\"Training time: {stop - start}s\")\n",
    "start=time.time()\n",
    "test_dataset = sc.transform(test_dataset)\n",
    "stop=time.time()\n",
    "print(f\"Testing time: {stop - start}s\")\n",
    "test_dataset"
   ]
  },
  {
   "cell_type": "code",
   "execution_count": 25,
   "id": "eb8429ca",
   "metadata": {},
   "outputs": [],
   "source": [
    "from sklearn.tree import DecisionTreeClassifier\n",
    "dtree = DecisionTreeClassifier()\n",
    "dtree.fit(train_dataset,train_labels)\n",
    "predictions = dtree.predict(test_dataset)\n"
   ]
  },
  {
   "cell_type": "code",
   "execution_count": 26,
   "id": "1e6be734",
   "metadata": {},
   "outputs": [
    {
     "name": "stdout",
     "output_type": "stream",
     "text": [
      "              precision    recall  f1-score   support\n",
      "\n",
      "           0       0.62      0.74      0.67       266\n",
      "           1       0.31      0.20      0.25       152\n",
      "\n",
      "    accuracy                           0.55       418\n",
      "   macro avg       0.46      0.47      0.46       418\n",
      "weighted avg       0.51      0.55      0.52       418\n",
      "\n"
     ]
    }
   ],
   "source": [
    "from sklearn.metrics import classification_report,confusion_matrix\n",
    "print(classification_report(test_labels,predictions))"
   ]
  },
  {
   "cell_type": "code",
   "execution_count": 27,
   "id": "9eb94ea3",
   "metadata": {},
   "outputs": [
    {
     "name": "stdout",
     "output_type": "stream",
     "text": [
      "[[197  69]\n",
      " [121  31]]\n"
     ]
    }
   ],
   "source": [
    "print(confusion_matrix(test_labels,predictions))"
   ]
  },
  {
   "cell_type": "code",
   "execution_count": 36,
   "id": "632ceba9",
   "metadata": {},
   "outputs": [
    {
     "data": {
      "text/plain": [
       "228"
      ]
     },
     "execution_count": 36,
     "metadata": {},
     "output_type": "execute_result"
    }
   ],
   "source": [
    "197+31\n"
   ]
  },
  {
   "cell_type": "code",
   "execution_count": 37,
   "id": "729ab6b7",
   "metadata": {},
   "outputs": [
    {
     "data": {
      "text/plain": [
       "0.5454545454545454"
      ]
     },
     "execution_count": 37,
     "metadata": {},
     "output_type": "execute_result"
    }
   ],
   "source": [
    "228/418"
   ]
  },
  {
   "cell_type": "code",
   "execution_count": null,
   "id": "1e360999",
   "metadata": {},
   "outputs": [],
   "source": []
  }
 ],
 "metadata": {
  "kernelspec": {
   "display_name": "Python 3 (ipykernel)",
   "language": "python",
   "name": "python3"
  },
  "language_info": {
   "codemirror_mode": {
    "name": "ipython",
    "version": 3
   },
   "file_extension": ".py",
   "mimetype": "text/x-python",
   "name": "python",
   "nbconvert_exporter": "python",
   "pygments_lexer": "ipython3",
   "version": "3.9.12"
  }
 },
 "nbformat": 4,
 "nbformat_minor": 5
}
