{
 "cells": [
  {
   "cell_type": "code",
   "execution_count": null,
   "id": "6df2cbcb",
   "metadata": {},
   "outputs": [],
   "source": [
    "#Naive_Bayes_Classifier on IRIS Dataset \n",
    "import pandas as pd\n",
    "import numpy as np"
   ]
  },
  {
   "cell_type": "code",
   "execution_count": null,
   "id": "8a06d6ce",
   "metadata": {},
   "outputs": [],
   "source": [
    "df = pd.read_csv(\"IRIS.csv\")\n",
    "df"
   ]
  },
  {
   "cell_type": "code",
   "execution_count": null,
   "id": "2dc95ace",
   "metadata": {},
   "outputs": [],
   "source": [
    "#Spliting dependent and independent variables Y is Target Attribute which is species.\n",
    "X =df.iloc[0:,:4].values\n",
    "Y = df['species'].values"
   ]
  },
  {
   "cell_type": "code",
   "execution_count": null,
   "id": "ea5ea67a",
   "metadata": {},
   "outputs": [],
   "source": [
    "#Spliting Data for traning(80%) and testing(20%)\n",
    "from sklearn.model_selection import train_test_split\n",
    "X_train, X_test, y_train, y_test = train_test_split(X,Y,test_size=0.20)"
   ]
  },
  {
   "cell_type": "code",
   "execution_count": null,
   "id": "83b2b602",
   "metadata": {},
   "outputs": [],
   "source": [
    "#Featrure scaling to bring variable in a single scale\n",
    "import time\n",
    "from sklearn.preprocessing import StandardScaler\n",
    "sc = StandardScaler()\n",
    "start=time.time()\n",
    "X_train = sc.fit_transform(X_train)\n",
    "stop= time.time()\n",
    "print(f\"Training time: {stop - start}s\")\n",
    "start=time.time()\n",
    "X_test = sc.transform(X_test)\n",
    "stop= time.time()\n",
    "print(f\"Testing time: {stop - start}s\")\n",
    "X_test"
   ]
  },
  {
   "cell_type": "code",
   "execution_count": null,
   "id": "3b14a4f6",
   "metadata": {},
   "outputs": [],
   "source": [
    "from sklearn.metrics import classification_report,confusion_matrix"
   ]
  },
  {
   "cell_type": "code",
   "execution_count": null,
   "id": "70ab9411",
   "metadata": {},
   "outputs": [],
   "source": [
    "from sklearn.ensemble import RandomForestClassifier\n",
    "rfc = RandomForestClassifier(n_estimators=100)\n",
    "rfc.fit(X_train, y_train)"
   ]
  },
  {
   "cell_type": "code",
   "execution_count": null,
   "id": "953f9634",
   "metadata": {},
   "outputs": [],
   "source": [
    "rfc_pred = rfc.predict(X_test)"
   ]
  },
  {
   "cell_type": "code",
   "execution_count": null,
   "id": "f5762f0e",
   "metadata": {},
   "outputs": [],
   "source": [
    "print(confusion_matrix(y_test,rfc_pred))"
   ]
  },
  {
   "cell_type": "code",
   "execution_count": null,
   "id": "440a4573",
   "metadata": {},
   "outputs": [],
   "source": [
    "print(classification_report(y_test,rfc_pred))"
   ]
  },
  {
   "cell_type": "code",
   "execution_count": null,
   "id": "1827ee1f",
   "metadata": {},
   "outputs": [],
   "source": [
    "#Random_Forest_Classifier on Titanic Dataset \n",
    "#Clean the dataset Manually by converting Catagorical Attributes into 0 and 1, and removed unrequire Attributes e.g Name,Caben etc"
   ]
  },
  {
   "cell_type": "code",
   "execution_count": null,
   "id": "970b0276",
   "metadata": {},
   "outputs": [],
   "source": [
    "import pandas as pd\n",
    "train_dataset = pd.read_csv(\"train_data.csv\",index_col=0)"
   ]
  },
  {
   "cell_type": "code",
   "execution_count": null,
   "id": "09c431fd",
   "metadata": {},
   "outputs": [],
   "source": [
    "train_dataset.head(3)"
   ]
  },
  {
   "cell_type": "code",
   "execution_count": null,
   "id": "80b8bae9",
   "metadata": {},
   "outputs": [],
   "source": [
    "test_dataset = pd.read_csv(\"test_data.csv\", index_col =0)"
   ]
  },
  {
   "cell_type": "code",
   "execution_count": null,
   "id": "0ed3cd8d",
   "metadata": {},
   "outputs": [],
   "source": [
    "test_dataset.head(3)"
   ]
  },
  {
   "cell_type": "code",
   "execution_count": null,
   "id": "34cee900",
   "metadata": {},
   "outputs": [],
   "source": [
    "test_labels = pd.read_csv(\"test_labels.csv\",index_col=0)\n",
    "train_labels = pd.read_csv(\"train_labels.csv\",index_col=0)\n",
    "train_labels.head(3)\n",
    "test_labels.head(3)"
   ]
  },
  {
   "cell_type": "code",
   "execution_count": null,
   "id": "4e947fd5",
   "metadata": {},
   "outputs": [],
   "source": [
    "#Featrure scaling to bring variable in a single scale\n",
    "from sklearn.preprocessing import StandardScaler\n",
    "sc = StandardScaler()\n",
    "start=time.time()\n",
    "train_dataset = sc.fit_transform(train_dataset)\n",
    "stop=time.time()\n",
    "print(f\"Training time: {stop - start}s\")\n",
    "start=time.time()\n",
    "test_dataset = sc.transform(test_dataset)\n",
    "stop=time.time()\n",
    "print(f\"Testing time: {stop - start}s\")\n",
    "test_dataset"
   ]
  },
  {
   "cell_type": "code",
   "execution_count": null,
   "id": "7dcbad23",
   "metadata": {},
   "outputs": [],
   "source": [
    "from sklearn.ensemble import RandomForestClassifier\n",
    "rfc = RandomForestClassifier(n_estimators=100)\n",
    "rfc.fit(train_dataset, train_labels)"
   ]
  },
  {
   "cell_type": "code",
   "execution_count": null,
   "id": "16b01f9d",
   "metadata": {},
   "outputs": [],
   "source": [
    "rfc_pred = rfc.predict(test_dataset)"
   ]
  },
  {
   "cell_type": "code",
   "execution_count": null,
   "id": "448dca53",
   "metadata": {},
   "outputs": [],
   "source": [
    "print(confusion_matrix(test_labels,rfc_pred))"
   ]
  },
  {
   "cell_type": "code",
   "execution_count": null,
   "id": "1cc57bd1",
   "metadata": {},
   "outputs": [],
   "source": [
    "print(classification_report(test_labels,rfc_pred))"
   ]
  },
  {
   "cell_type": "code",
   "execution_count": null,
   "id": "f67261d8",
   "metadata": {},
   "outputs": [],
   "source": [
    "196+38"
   ]
  },
  {
   "cell_type": "code",
   "execution_count": null,
   "id": "741d96ac",
   "metadata": {},
   "outputs": [],
   "source": [
    "234/418"
   ]
  },
  {
   "cell_type": "code",
   "execution_count": null,
   "id": "bdac5ec8",
   "metadata": {},
   "outputs": [],
   "source": []
  }
 ],
 "metadata": {
  "kernelspec": {
   "display_name": "Python 3 (ipykernel)",
   "language": "python",
   "name": "python3"
  },
  "language_info": {
   "codemirror_mode": {
    "name": "ipython",
    "version": 3
   },
   "file_extension": ".py",
   "mimetype": "text/x-python",
   "name": "python",
   "nbconvert_exporter": "python",
   "pygments_lexer": "ipython3",
   "version": "3.9.12"
  }
 },
 "nbformat": 4,
 "nbformat_minor": 5
}
