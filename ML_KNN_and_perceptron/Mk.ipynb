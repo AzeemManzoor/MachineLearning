{
 "cells": [
  {
   "cell_type": "code",
   "execution_count": 84,
   "id": "7f936183",
   "metadata": {},
   "outputs": [],
   "source": [
    "import pandas as pd\n",
    "import seaborn as sns\n",
    "import matplotlib.pyplot as plt\n",
    "import numpy as np\n",
    "df = pd.read_csv(\"Data.csv\")"
   ]
  },
  {
   "cell_type": "code",
   "execution_count": 85,
   "id": "777641bc",
   "metadata": {},
   "outputs": [
    {
     "data": {
      "text/html": [
       "<div>\n",
       "<style scoped>\n",
       "    .dataframe tbody tr th:only-of-type {\n",
       "        vertical-align: middle;\n",
       "    }\n",
       "\n",
       "    .dataframe tbody tr th {\n",
       "        vertical-align: top;\n",
       "    }\n",
       "\n",
       "    .dataframe thead th {\n",
       "        text-align: right;\n",
       "    }\n",
       "</style>\n",
       "<table border=\"1\" class=\"dataframe\">\n",
       "  <thead>\n",
       "    <tr style=\"text-align: right;\">\n",
       "      <th></th>\n",
       "      <th>Gender</th>\n",
       "      <th>Height</th>\n",
       "      <th>Weight</th>\n",
       "      <th>hair</th>\n",
       "      <th>Beard</th>\n",
       "      <th>Hijab</th>\n",
       "      <th>Jewelery</th>\n",
       "      <th>Piercing</th>\n",
       "    </tr>\n",
       "  </thead>\n",
       "  <tbody>\n",
       "    <tr>\n",
       "      <th>0</th>\n",
       "      <td>1</td>\n",
       "      <td>170</td>\n",
       "      <td>180</td>\n",
       "      <td>3</td>\n",
       "      <td>1</td>\n",
       "      <td>0</td>\n",
       "      <td>0</td>\n",
       "      <td>0</td>\n",
       "    </tr>\n",
       "    <tr>\n",
       "      <th>1</th>\n",
       "      <td>1</td>\n",
       "      <td>184</td>\n",
       "      <td>137</td>\n",
       "      <td>6</td>\n",
       "      <td>1</td>\n",
       "      <td>0</td>\n",
       "      <td>0</td>\n",
       "      <td>0</td>\n",
       "    </tr>\n",
       "    <tr>\n",
       "      <th>2</th>\n",
       "      <td>1</td>\n",
       "      <td>172</td>\n",
       "      <td>158</td>\n",
       "      <td>5</td>\n",
       "      <td>1</td>\n",
       "      <td>0</td>\n",
       "      <td>0</td>\n",
       "      <td>0</td>\n",
       "    </tr>\n",
       "    <tr>\n",
       "      <th>3</th>\n",
       "      <td>1</td>\n",
       "      <td>182</td>\n",
       "      <td>195</td>\n",
       "      <td>5</td>\n",
       "      <td>1</td>\n",
       "      <td>0</td>\n",
       "      <td>0</td>\n",
       "      <td>0</td>\n",
       "    </tr>\n",
       "    <tr>\n",
       "      <th>4</th>\n",
       "      <td>1</td>\n",
       "      <td>175</td>\n",
       "      <td>108</td>\n",
       "      <td>3</td>\n",
       "      <td>1</td>\n",
       "      <td>0</td>\n",
       "      <td>0</td>\n",
       "      <td>0</td>\n",
       "    </tr>\n",
       "  </tbody>\n",
       "</table>\n",
       "</div>"
      ],
      "text/plain": [
       "   Gender  Height  Weight  hair  Beard  Hijab  Jewelery  Piercing\n",
       "0       1     170     180     3      1      0         0         0\n",
       "1       1     184     137     6      1      0         0         0\n",
       "2       1     172     158     5      1      0         0         0\n",
       "3       1     182     195     5      1      0         0         0\n",
       "4       1     175     108     3      1      0         0         0"
      ]
     },
     "execution_count": 85,
     "metadata": {},
     "output_type": "execute_result"
    }
   ],
   "source": [
    "df.head()"
   ]
  },
  {
   "cell_type": "code",
   "execution_count": 1,
   "id": "11929d99",
   "metadata": {},
   "outputs": [
    {
     "ename": "NameError",
     "evalue": "name 'df' is not defined",
     "output_type": "error",
     "traceback": [
      "\u001b[1;31m---------------------------------------------------------------------------\u001b[0m",
      "\u001b[1;31mNameError\u001b[0m                                 Traceback (most recent call last)",
      "Input \u001b[1;32mIn [1]\u001b[0m, in \u001b[0;36m<cell line: 1>\u001b[1;34m()\u001b[0m\n\u001b[1;32m----> 1\u001b[0m x \u001b[38;5;241m=\u001b[39m \u001b[43mdf\u001b[49m[[\u001b[38;5;124m'\u001b[39m\u001b[38;5;124mHeight\u001b[39m\u001b[38;5;124m'\u001b[39m, \u001b[38;5;124m'\u001b[39m\u001b[38;5;124mWeight\u001b[39m\u001b[38;5;124m'\u001b[39m, \u001b[38;5;124m'\u001b[39m\u001b[38;5;124mBeard\u001b[39m\u001b[38;5;124m'\u001b[39m, \u001b[38;5;124m'\u001b[39m\u001b[38;5;124mHijab\u001b[39m\u001b[38;5;124m'\u001b[39m, \u001b[38;5;124m'\u001b[39m\u001b[38;5;124mPiercing\u001b[39m\u001b[38;5;124m'\u001b[39m, \u001b[38;5;124m'\u001b[39m\u001b[38;5;124mJewelery\u001b[39m\u001b[38;5;124m'\u001b[39m, \u001b[38;5;124m'\u001b[39m\u001b[38;5;124mhair\u001b[39m\u001b[38;5;124m'\u001b[39m ]]\n\u001b[0;32m      2\u001b[0m y \u001b[38;5;241m=\u001b[39m df[\u001b[38;5;124m'\u001b[39m\u001b[38;5;124mGender\u001b[39m\u001b[38;5;124m'\u001b[39m]\n",
      "\u001b[1;31mNameError\u001b[0m: name 'df' is not defined"
     ]
    }
   ],
   "source": [
    "x = df[['Height', 'Weight', 'Beard', 'Hijab', 'Piercing', 'Jewelery', 'hair' ]]\n",
    "y = df['Gender']"
   ]
  },
  {
   "cell_type": "code",
   "execution_count": 88,
   "id": "4cbb55c5",
   "metadata": {},
   "outputs": [],
   "source": [
    "from sklearn.model_selection import train_test_split"
   ]
  },
  {
   "cell_type": "code",
   "execution_count": 89,
   "id": "2185b49b",
   "metadata": {},
   "outputs": [],
   "source": [
    "X_train, X_test, y_train, y_test = train_test_split(x,y,\n",
    "                                                    test_size=0.30)"
   ]
  },
  {
   "cell_type": "code",
   "execution_count": 90,
   "id": "23d5733a",
   "metadata": {},
   "outputs": [],
   "source": [
    "from sklearn.neighbors import KNeighborsClassifier"
   ]
  },
  {
   "cell_type": "code",
   "execution_count": 91,
   "id": "0a443ab3",
   "metadata": {},
   "outputs": [],
   "source": [
    "knn = KNeighborsClassifier(n_neighbors=13)"
   ]
  },
  {
   "cell_type": "code",
   "execution_count": 97,
   "id": "d9ce9fd6",
   "metadata": {},
   "outputs": [
    {
     "name": "stdout",
     "output_type": "stream",
     "text": [
      "    Height  Weight  Beard  Hijab  Piercing  Jewelery  hair\n",
      "8      170     108      0      0         0         0     4\n",
      "97     180     176      1      0         0         0     4\n",
      "96     179     141      1      0         0         0     4\n",
      "47     170     130      1      0         0         0     3\n",
      "24     175     151      1      0         0         0     3\n",
      "81     167     127      1      0         0         0     2\n",
      "95     160     150      1      0         0         0     4\n",
      "48     179     198      1      0         0         0     2\n",
      "94     170     140      1      0         0         0     5\n",
      "79     182     172      1      0         0         0     3\n",
      "17     180     171      1      0         0         0     3\n",
      "38     175     123      1      0         0         0     3\n",
      "98     178     158      1      0         0         0     2\n",
      "50     150     136      0      0         1         1    10\n",
      "40     160     115      1      0         0         0     2\n",
      "85     180     160      0      0         0         0     3\n",
      "80     172     160      1      0         0         0     1\n",
      "43     176     159      1      0         0         0     3\n",
      "26     160     140      0      1         0         1    16\n",
      "9      176     114      1      0         0         0     5\n",
      "90     156     126      0      1         1         1    24\n",
      "75     171     145      1      0         0         0     1\n",
      "72     183     175      1      0         0         0     5\n",
      "82     175     121      1      0         0         0     3\n",
      "57     159     120      1      0         0         1     4\n",
      "92     178     135      1      0         0         0     5\n",
      "64     184     174      1      0         0         0     1\n",
      "14     179     125      0      0         0         0     4\n",
      "29     175     159      1      0         0         0     3\n",
      "28     174     145      1      0         0         0     4\n"
     ]
    }
   ],
   "source": [
    "knn.fit(X_train,y_train)\n",
    "print(X_test)"
   ]
  },
  {
   "cell_type": "code",
   "execution_count": 93,
   "id": "4b6a9cfc",
   "metadata": {},
   "outputs": [
    {
     "name": "stdout",
     "output_type": "stream",
     "text": [
      "[1 1 1 1 1 1 1 1 1 1 1 1 1 1 1 1 1 1 1 1 0 1 1 1 1 1 1 1 1 1]\n"
     ]
    }
   ],
   "source": [
    "pred = knn.predict(X_test)\n",
    "print(pred)"
   ]
  },
  {
   "cell_type": "code",
   "execution_count": 99,
   "id": "dcbdd526",
   "metadata": {},
   "outputs": [
    {
     "ename": "TypeError",
     "evalue": "predict() takes 2 positional arguments but 8 were given",
     "output_type": "error",
     "traceback": [
      "\u001b[1;31m---------------------------------------------------------------------------\u001b[0m",
      "\u001b[1;31mTypeError\u001b[0m                                 Traceback (most recent call last)",
      "Input \u001b[1;32mIn [99]\u001b[0m, in \u001b[0;36m<cell line: 1>\u001b[1;34m()\u001b[0m\n\u001b[1;32m----> 1\u001b[0m pr \u001b[38;5;241m=\u001b[39m \u001b[43mknn\u001b[49m\u001b[38;5;241;43m.\u001b[39;49m\u001b[43mpredict\u001b[49m\u001b[43m(\u001b[49m\u001b[38;5;241;43m164\u001b[39;49m\u001b[43m,\u001b[49m\u001b[38;5;241;43m108\u001b[39;49m\u001b[43m,\u001b[49m\u001b[38;5;241;43m1\u001b[39;49m\u001b[43m,\u001b[49m\u001b[38;5;241;43m0\u001b[39;49m\u001b[43m,\u001b[49m\u001b[38;5;241;43m0\u001b[39;49m\u001b[43m,\u001b[49m\u001b[38;5;241;43m0\u001b[39;49m\u001b[43m,\u001b[49m\u001b[38;5;241;43m2\u001b[39;49m\u001b[43m)\u001b[49m\n\u001b[0;32m      2\u001b[0m \u001b[38;5;28mprint\u001b[39m(pr)\n",
      "\u001b[1;31mTypeError\u001b[0m: predict() takes 2 positional arguments but 8 were given"
     ]
    }
   ],
   "source": [
    "pr = knn.predict(164,108,1,0,0,0,2)\n",
    "print(pr)"
   ]
  },
  {
   "cell_type": "code",
   "execution_count": 94,
   "id": "add6fcb2",
   "metadata": {},
   "outputs": [],
   "source": [
    "from sklearn.metrics import classification_report,confusion_matrix"
   ]
  },
  {
   "cell_type": "code",
   "execution_count": 95,
   "id": "fffdbaa1",
   "metadata": {},
   "outputs": [
    {
     "name": "stdout",
     "output_type": "stream",
     "text": [
      "[[ 1  2]\n",
      " [ 0 27]]\n"
     ]
    }
   ],
   "source": [
    "print(confusion_matrix(y_test,pred))"
   ]
  },
  {
   "cell_type": "code",
   "execution_count": 96,
   "id": "17fcd75e",
   "metadata": {},
   "outputs": [
    {
     "name": "stdout",
     "output_type": "stream",
     "text": [
      "              precision    recall  f1-score   support\n",
      "\n",
      "           0       1.00      0.33      0.50         3\n",
      "           1       0.93      1.00      0.96        27\n",
      "\n",
      "    accuracy                           0.93        30\n",
      "   macro avg       0.97      0.67      0.73        30\n",
      "weighted avg       0.94      0.93      0.92        30\n",
      "\n"
     ]
    }
   ],
   "source": [
    "print(classification_report(y_test,pred))"
   ]
  },
  {
   "cell_type": "code",
   "execution_count": null,
   "id": "148fe17a",
   "metadata": {},
   "outputs": [],
   "source": [
    "from tkinter import *\n",
    "\n",
    "\n",
    "root = Tk()\n",
    "\n",
    "root.title(\"K-Nearest Neighbours Gender Identification\")\n",
    "root.geometry(\"500x500\")\n",
    "\n",
    "mylable2=Label(root,text=\"Height(in cm):\")\n",
    "mylable2.pack()\n",
    "e = Entry(root, width=50, fg='black')\n",
    "e.pack()\n",
    "\n",
    "mylable3=Label(root,text=\"Weight(in lbs):\")\n",
    "mylable3.pack()\n",
    "e1 = Entry(root, width=50, fg='black')\n",
    "e1.pack()\n",
    "\n",
    "mylable4=Label(root,text=\"Beard(1/0):\")\n",
    "mylable4.pack()\n",
    "e2 = Entry(root, width=50, fg='black')\n",
    "e2.pack()\n",
    "\n",
    "mylable5=Label(root,text=\"Hair Length(in inches):\")\n",
    "mylable5.pack()\n",
    "e3 = Entry(root, width=50, fg='black')\n",
    "e3.pack()\n",
    "\n",
    "mylable6=Label(root,text=\"Hijab(1/0):\")\n",
    "mylable6.pack()\n",
    "e4 = Entry(root, width=50, fg='black')\n",
    "e4.pack()\n",
    "\n",
    "mylable7=Label(root,text=\"Piercing(1/0):\")\n",
    "mylable7.pack()\n",
    "e5 = Entry(root, width=50, fg='black')\n",
    "e5.pack()\n",
    "\n",
    "mylable1=Label(root,text=\"Wear Jewelry(1/0):\")\n",
    "mylable1.pack()\n",
    "e6 = Entry(root, width=50, fg='black')\n",
    "e6.pack()\n",
    "\n",
    "\n",
    "def clickme():\n",
    "    mylable = Label(root,text=\"Female\")\n",
    "    mylable.pack()\n",
    "\n",
    "mybutton = Button(root, text=\"Result\",command=clickme)\n",
    "mybutton.pack()\n",
    "\n",
    "root.mainloop()"
   ]
  },
  {
   "cell_type": "code",
   "execution_count": null,
   "id": "07a328ef",
   "metadata": {},
   "outputs": [],
   "source": []
  }
 ],
 "metadata": {
  "kernelspec": {
   "display_name": "Python 3 (ipykernel)",
   "language": "python",
   "name": "python3"
  },
  "language_info": {
   "codemirror_mode": {
    "name": "ipython",
    "version": 3
   },
   "file_extension": ".py",
   "mimetype": "text/x-python",
   "name": "python",
   "nbconvert_exporter": "python",
   "pygments_lexer": "ipython3",
   "version": "3.10.5"
  }
 },
 "nbformat": 4,
 "nbformat_minor": 5
}
