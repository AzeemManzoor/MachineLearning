{
 "cells": [
  {
   "cell_type": "code",
   "execution_count": 10,
   "id": "702492f3",
   "metadata": {},
   "outputs": [],
   "source": [
    "import pandas as pd\n",
    "from sklearn.model_selection import train_test_split\n",
    "from sklearn.metrics import accuracy_score\n",
    "from sklearn.linear_model import Perceptron"
   ]
  },
  {
   "cell_type": "code",
   "execution_count": 11,
   "id": "573dd1e9",
   "metadata": {},
   "outputs": [
    {
     "data": {
      "text/html": [
       "<div>\n",
       "<style scoped>\n",
       "    .dataframe tbody tr th:only-of-type {\n",
       "        vertical-align: middle;\n",
       "    }\n",
       "\n",
       "    .dataframe tbody tr th {\n",
       "        vertical-align: top;\n",
       "    }\n",
       "\n",
       "    .dataframe thead th {\n",
       "        text-align: right;\n",
       "    }\n",
       "</style>\n",
       "<table border=\"1\" class=\"dataframe\">\n",
       "  <thead>\n",
       "    <tr style=\"text-align: right;\">\n",
       "      <th></th>\n",
       "      <th>Gender</th>\n",
       "      <th>Height</th>\n",
       "      <th>Weight</th>\n",
       "      <th>Hairlength</th>\n",
       "      <th>Beard</th>\n",
       "      <th>Hijab</th>\n",
       "      <th>Jewelery</th>\n",
       "      <th>Piercing</th>\n",
       "    </tr>\n",
       "  </thead>\n",
       "  <tbody>\n",
       "    <tr>\n",
       "      <th>0</th>\n",
       "      <td>0</td>\n",
       "      <td>170</td>\n",
       "      <td>180</td>\n",
       "      <td>3</td>\n",
       "      <td>1</td>\n",
       "      <td>0</td>\n",
       "      <td>0</td>\n",
       "      <td>0</td>\n",
       "    </tr>\n",
       "    <tr>\n",
       "      <th>1</th>\n",
       "      <td>0</td>\n",
       "      <td>184</td>\n",
       "      <td>137</td>\n",
       "      <td>6</td>\n",
       "      <td>1</td>\n",
       "      <td>0</td>\n",
       "      <td>0</td>\n",
       "      <td>0</td>\n",
       "    </tr>\n",
       "    <tr>\n",
       "      <th>2</th>\n",
       "      <td>0</td>\n",
       "      <td>172</td>\n",
       "      <td>158</td>\n",
       "      <td>5</td>\n",
       "      <td>1</td>\n",
       "      <td>0</td>\n",
       "      <td>0</td>\n",
       "      <td>0</td>\n",
       "    </tr>\n",
       "    <tr>\n",
       "      <th>3</th>\n",
       "      <td>0</td>\n",
       "      <td>182</td>\n",
       "      <td>195</td>\n",
       "      <td>5</td>\n",
       "      <td>1</td>\n",
       "      <td>0</td>\n",
       "      <td>0</td>\n",
       "      <td>0</td>\n",
       "    </tr>\n",
       "    <tr>\n",
       "      <th>4</th>\n",
       "      <td>0</td>\n",
       "      <td>175</td>\n",
       "      <td>108</td>\n",
       "      <td>3</td>\n",
       "      <td>1</td>\n",
       "      <td>0</td>\n",
       "      <td>0</td>\n",
       "      <td>0</td>\n",
       "    </tr>\n",
       "  </tbody>\n",
       "</table>\n",
       "</div>"
      ],
      "text/plain": [
       "   Gender  Height  Weight  Hairlength  Beard  Hijab  Jewelery  Piercing\n",
       "0       0     170     180           3      1      0         0         0\n",
       "1       0     184     137           6      1      0         0         0\n",
       "2       0     172     158           5      1      0         0         0\n",
       "3       0     182     195           5      1      0         0         0\n",
       "4       0     175     108           3      1      0         0         0"
      ]
     },
     "execution_count": 11,
     "metadata": {},
     "output_type": "execute_result"
    }
   ],
   "source": [
    "df = pd.read_csv('ML_dat_for_perceptron.csv')\n",
    "df.head()"
   ]
  },
  {
   "cell_type": "code",
   "execution_count": 12,
   "id": "6c1d7f89",
   "metadata": {},
   "outputs": [],
   "source": [
    "x = df[['Height','Weight','Hairlength','Beard','Hijab','Jewelery','Piercing']]\n",
    "y = df['Gender']\n"
   ]
  },
  {
   "cell_type": "code",
   "execution_count": 13,
   "id": "063617d0",
   "metadata": {},
   "outputs": [
    {
     "data": {
      "text/plain": [
       "array([1, 0, 0, 0, 0, 0, 0, 0, 0, 0, 0, 0, 0, 0, 0, 0, 0, 0, 0, 0, 0, 0,\n",
       "       0, 0, 0, 0, 1, 0, 0, 0], dtype=int64)"
      ]
     },
     "execution_count": 13,
     "metadata": {},
     "output_type": "execute_result"
    }
   ],
   "source": [
    "X_train, X_test, Y_train, Y_test = train_test_split(x, y, test_size=0.3)\n",
    "model = Perceptron(random_state=1)\n",
    "model.fit(X_train, Y_train)\n",
    "predict = model.predict(X_test)\n",
    "predict"
   ]
  },
  {
   "cell_type": "code",
   "execution_count": 9,
   "id": "bfe42593",
   "metadata": {},
   "outputs": [
    {
     "name": "stdout",
     "output_type": "stream",
     "text": [
      "Enter Height:180\n",
      "Enter Weight:170\n",
      "Enter hair:2\n",
      "Enter Beard:1\n",
      "Enter Hijab:0\n",
      "Enter Jewelery:0\n",
      "Enter Piercing:0\n",
      "0.8\n",
      "Perceptron giving prediction as:  [0]\n"
     ]
    },
    {
     "name": "stderr",
     "output_type": "stream",
     "text": [
      "C:\\Users\\4a\\AppData\\Local\\Programs\\Python\\Python310\\lib\\site-packages\\sklearn\\base.py:450: UserWarning: X does not have valid feature names, but Perceptron was fitted with feature names\n",
      "  warnings.warn(\n"
     ]
    }
   ],
   "source": [
    "Height = int(input('Enter Height:'))\n",
    "Weight = int(input('Enter Weight:'))\n",
    "Hair_length = int(input('Enter hair:'))\n",
    "Beard = int(input('Enter Beard:'))\n",
    "Hijab = int(input('Enter Hijab:'))\n",
    "Jewelery = int(input('Enter Jewelery:'))\n",
    "Piercing = int(input('Enter Piercing:'))\n",
    "\n",
    "score = accuracy_score(Y_test, predict)\n",
    "print(score)\n",
    "\n",
    "result = model.predict([[Height, Weight, Hair_length,Beard,Hijab,Jewelery,Piercing]])\n",
    "print(\"Perceptron giving prediction as: \", result)"
   ]
  },
  {
   "cell_type": "code",
   "execution_count": null,
   "id": "23636c58",
   "metadata": {},
   "outputs": [],
   "source": []
  }
 ],
 "metadata": {
  "kernelspec": {
   "display_name": "Python 3 (ipykernel)",
   "language": "python",
   "name": "python3"
  },
  "language_info": {
   "codemirror_mode": {
    "name": "ipython",
    "version": 3
   },
   "file_extension": ".py",
   "mimetype": "text/x-python",
   "name": "python",
   "nbconvert_exporter": "python",
   "pygments_lexer": "ipython3",
   "version": "3.10.5"
  }
 },
 "nbformat": 4,
 "nbformat_minor": 5
}
